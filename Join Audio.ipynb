{
 "cells": [
  {
   "cell_type": "code",
   "execution_count": 1,
   "metadata": {
    "collapsed": false
   },
   "outputs": [],
   "source": [
    "import sys\n",
    "import os\n",
    "import glob\n",
    "import librosa\n",
    "import numpy as np\n",
    "import pandas as pd\n",
    "from tqdm import tqdm\n",
    "\n",
    "from matplotlib import pyplot as plt\n",
    "%matplotlib inline"
   ]
  },
  {
   "cell_type": "code",
   "execution_count": 2,
   "metadata": {
    "collapsed": true
   },
   "outputs": [],
   "source": [
    "INPUT_FOLDER = '../ryan_audio/les_mis/'\n",
    "OUTPUT_NAME = 'les_mis.mp3'"
   ]
  },
  {
   "cell_type": "code",
   "execution_count": 3,
   "metadata": {
    "collapsed": false
   },
   "outputs": [],
   "source": [
    "# Get all audio files into single array\n",
    "for i,f in enumerate(glob.glob(INPUT_FOLDER+'*')):\n",
    "    temp, sr = librosa.load(f,sr=None)\n",
    "    if i == 0:\n",
    "        final = temp\n",
    "    else:\n",
    "        final = np.concatenate((final,temp))"
   ]
  },
  {
   "cell_type": "code",
   "execution_count": 4,
   "metadata": {
    "collapsed": true
   },
   "outputs": [],
   "source": [
    "# Save array\n",
    "librosa.output.write_wav(OUTPUT_NAME,final,sr)"
   ]
  },
  {
   "cell_type": "markdown",
   "metadata": {},
   "source": [
    "Open Audacity and split"
   ]
  },
  {
   "cell_type": "code",
   "execution_count": 5,
   "metadata": {
    "collapsed": true
   },
   "outputs": [],
   "source": [
    "LANGUAGE_CODE = 'fr'\n",
    "BOOK_TITLE = 'lesmis'\n",
    "LABELS_NAME = 'lesmis_labels.txt'"
   ]
  },
  {
   "cell_type": "code",
   "execution_count": 6,
   "metadata": {
    "collapsed": false
   },
   "outputs": [
    {
     "data": {
      "text/plain": [
       "256"
      ]
     },
     "execution_count": 6,
     "metadata": {},
     "output_type": "execute_result"
    }
   ],
   "source": [
    "# Make language directory\n",
    "os.system('mkdir '+LANGUAGE_CODE)"
   ]
  },
  {
   "cell_type": "code",
   "execution_count": 7,
   "metadata": {
    "collapsed": false
   },
   "outputs": [
    {
     "data": {
      "text/plain": [
       "0"
      ]
     },
     "execution_count": 7,
     "metadata": {},
     "output_type": "execute_result"
    }
   ],
   "source": [
    "# Make book directory\n",
    "os.system('mkdir '+LANGUAGE_CODE+'/'+BOOK_TITLE)"
   ]
  },
  {
   "cell_type": "code",
   "execution_count": 8,
   "metadata": {
    "collapsed": false
   },
   "outputs": [],
   "source": [
    "# Read silences\n",
    "silences = np.array(pd.read_csv(LABELS_NAME,delimiter='\\t',header=None).iloc[:,0])"
   ]
  },
  {
   "cell_type": "code",
   "execution_count": 9,
   "metadata": {
    "collapsed": false
   },
   "outputs": [
    {
     "name": "stderr",
     "output_type": "stream",
     "text": [
      "11099it [00:11, 950.90it/s]\n"
     ]
    }
   ],
   "source": [
    "# Split data and write\n",
    "for i,s in tqdm(enumerate(silences)):\n",
    "#     if i < 10:\n",
    "    if i == 0:\n",
    "        prev_cursor = 0\n",
    "    curr_cursor = int(sr*s)\n",
    "    clip = final[prev_cursor:curr_cursor]\n",
    "    output_num = str(i).zfill(4)\n",
    "    librosa.output.write_wav(LANGUAGE_CODE+'/'+BOOK_TITLE+'/'+BOOK_TITLE+output_num,clip,sr)\n",
    "    prev_cursor = curr_cursor\n",
    "    "
   ]
  },
  {
   "cell_type": "code",
   "execution_count": 10,
   "metadata": {
    "collapsed": false
   },
   "outputs": [
    {
     "name": "stderr",
     "output_type": "stream",
     "text": [
      "11099it [00:00, 476168.16it/s]\n"
     ]
    }
   ],
   "source": [
    "# Get statistics\n",
    "durations = []\n",
    "for i,s in tqdm(enumerate(silences)):\n",
    "#     if i < 10:\n",
    "    if i == 0:\n",
    "        prev_cursor = 0\n",
    "    curr_cursor = s\n",
    "    durations.append(curr_cursor-prev_cursor)\n",
    "    prev_cursor = curr_cursor"
   ]
  },
  {
   "cell_type": "code",
   "execution_count": 11,
   "metadata": {
    "collapsed": false
   },
   "outputs": [
    {
     "data": {
      "image/png": "[encoded data removed]",
      "text/plain": [
       "<matplotlib.figure.Figure at 0x7f8f0345e810>"
      ]
     },
     "metadata": {},
     "output_type": "display_data"
    }
   ],
   "source": [
    "plt.hist(durations,bins=50)\n",
    "plt.show()"
   ]
  },
  {
   "cell_type": "code",
   "execution_count": 45,
   "metadata": {
    "collapsed": false
   },
   "outputs": [
    {
     "data": {
      "text/plain": [
       "1.1917304108333309"
      ]
     },
     "execution_count": 45,
     "metadata": {},
     "output_type": "execute_result"
    }
   ],
   "source": [
    "durations = np.array(durations)\n",
    "durations[durations>10].sum()/3600"
   ]
  },
  {
   "cell_type": "code",
   "execution_count": 12,
   "metadata": {
    "collapsed": false
   },
   "outputs": [
    {
     "name": "stderr",
     "output_type": "stream",
     "text": [
      "5601it [00:17, 318.71it/s]\n"
     ]
    }
   ],
   "source": [
    "# Remake data using Kyubyong method\n",
    "ref_len = 10. * sr # We controls the length of each clip such that it is close to this.\n",
    "min_len = 1. * sr # We ignore a split point if it causes an audio clip under 5 1 sec.\n",
    "\n",
    "# Make book directory\n",
    "os.system('mkdir '+LANGUAGE_CODE+'/'+BOOK_TITLE+'_Kyubyong')\n",
    "\n",
    "# Save durations\n",
    "durations_k = []\n",
    "\n",
    "# Create new splitpoints\n",
    "cursor, _nsamples, filtered = 0, 0, []\n",
    "for s in [int(sil*sr) for sil in silences] :\n",
    "    nsamples = s - cursor\n",
    "    if nsamples > ref_len and _nsamples > min_len:\n",
    "        cursor = _s\n",
    "        filtered.append(cursor/sr)\n",
    "        nsamples = s - cursor\n",
    "\n",
    "    _nsamples, _s = nsamples, s\n",
    "\n",
    "# Split data and write\n",
    "for i,s in tqdm(enumerate(filtered)):\n",
    "    if i == 0:\n",
    "        prev_cursor = 0\n",
    "    curr_cursor = int(sr*s)\n",
    "    clip = final[prev_cursor:curr_cursor]\n",
    "    output_num = str(i).zfill(4)\n",
    "    librosa.output.write_wav(LANGUAGE_CODE+'/'+BOOK_TITLE+'_Kyubyong'+'/'+BOOK_TITLE+output_num,clip,sr)\n",
    "    prev_cursor = curr_cursor\n"
   ]
  },
  {
   "cell_type": "code",
   "execution_count": 13,
   "metadata": {
    "collapsed": false
   },
   "outputs": [
    {
     "name": "stderr",
     "output_type": "stream",
     "text": [
      "5601it [00:00, 595842.87it/s]\n"
     ]
    }
   ],
   "source": [
    "# Get statistics\n",
    "durations_k = []\n",
    "for i,s in tqdm(enumerate(filtered)):\n",
    "    if i == 0:\n",
    "        prev_cursor = 0\n",
    "    curr_cursor = s\n",
    "    durations_k.append(curr_cursor-prev_cursor)\n",
    "    prev_cursor = curr_cursor"
   ]
  },
  {
   "cell_type": "code",
   "execution_count": 14,
   "metadata": {
    "collapsed": false
   },
   "outputs": [
    {
     "data": {
      "image/png": "[encoded data removed]",
      "text/plain": [
       "<matplotlib.figure.Figure at 0x7f8f02010310>"
      ]
     },
     "metadata": {},
     "output_type": "display_data"
    }
   ],
   "source": [
    "plt.hist(durations_k,bins=50)\n",
    "plt.show()"
   ]
  },
  {
   "cell_type": "code",
   "execution_count": 35,
   "metadata": {
    "collapsed": false
   },
   "outputs": [
    {
     "name": "stderr",
     "output_type": "stream",
     "text": [
      "4619it [00:09, 488.59it/s]\n"
     ]
    }
   ],
   "source": [
    "# tommy style: just center around 5 sec\n",
    "\n",
    "ref_len = 12. # We controls the length of each clip such that it is close to this.\n",
    "min_len = 1. # We ignore a split point if it causes an audio clip under 5 1 sec.\n",
    "\n",
    "# Make book directory\n",
    "os.system('mkdir '+LANGUAGE_CODE+'/'+BOOK_TITLE+'_Tommy')\n",
    "\n",
    "\n",
    "# Create new splitpoints\n",
    "filtered = []\n",
    "start_cursor = 0\n",
    "prev_cursor = 0\n",
    "for s in silences:\n",
    "    cur_len = s-start_cursor\n",
    "    if cur_len > ref_len:\n",
    "        filtered.append(prev_cursor)\n",
    "        start_cursor = prev_cursor\n",
    "    prev_cursor = s\n",
    "\n",
    "\n",
    "\n",
    "# cursor, _nsamples, filtered, _s = 0, 0, [], 0\n",
    "# for s in [int(sil*sr) for sil in silences] :\n",
    "#     nsamples = s - cursor\n",
    "#     if nsamples > ref_len:\n",
    "#         cursor = _s\n",
    "#         filtered.append(cursor/sr)\n",
    "#         nsamples = s - cursor\n",
    "\n",
    "#     _nsamples, _s = nsamples, s\n",
    "\n",
    "# Split data and write\n",
    "for i,s in tqdm(enumerate(filtered)):\n",
    "    if i == 0:\n",
    "        prev_cursor = 0\n",
    "    curr_cursor = int(sr*s)\n",
    "    clip = final[prev_cursor:curr_cursor]\n",
    "    output_num = str(i).zfill(4)\n",
    "    librosa.output.write_wav(LANGUAGE_CODE+'/'+BOOK_TITLE+'_Tommy'+'/'+BOOK_TITLE+output_num,clip,sr)\n",
    "    prev_cursor = curr_cursor"
   ]
  },
  {
   "cell_type": "code",
   "execution_count": 36,
   "metadata": {
    "collapsed": false
   },
   "outputs": [
    {
     "name": "stderr",
     "output_type": "stream",
     "text": [
      "4619it [00:00, 579610.78it/s]\n"
     ]
    }
   ],
   "source": [
    "# Get statistics\n",
    "durations_t = []\n",
    "for i,s in tqdm(enumerate(filtered)):\n",
    "    if i == 0:\n",
    "        prev_cursor = 0\n",
    "    curr_cursor = s\n",
    "    durations_t.append(curr_cursor-prev_cursor)\n",
    "    prev_cursor = curr_cursor"
   ]
  },
  {
   "cell_type": "code",
   "execution_count": 37,
   "metadata": {
    "collapsed": false
   },
   "outputs": [
    {
     "data": {
      "image/png": "[encoded data removed]",
      "text/plain": [
       "<matplotlib.figure.Figure at 0x7f8f016ffc90>"
      ]
     },
     "metadata": {},
     "output_type": "display_data"
    }
   ],
   "source": [
    "plt.hist(durations_t,bins=50)\n",
    "plt.show()"
   ]
  },
  {
   "cell_type": "code",
   "execution_count": 39,
   "metadata": {
    "collapsed": true
   },
   "outputs": [],
   "source": [
    "durations_t = np.array(durations_t)"
   ]
  },
  {
   "cell_type": "code",
   "execution_count": 43,
   "metadata": {
    "collapsed": false
   },
   "outputs": [
    {
     "data": {
      "text/plain": [
       "7.6407373862856796"
      ]
     },
     "execution_count": 43,
     "metadata": {},
     "output_type": "execute_result"
    }
   ],
   "source": [
    "durations_t[durations_t>10].sum()/3500"
   ]
  },
  {
   "cell_type": "code",
   "execution_count": null,
   "metadata": {
    "collapsed": true
   },
   "outputs": [],
   "source": []
  }
 ],
 "metadata": {
  "kernelspec": {
   "display_name": "Python [conda root]",
   "language": "python",
   "name": "conda-root-py"
  },
  "language_info": {
   "codemirror_mode": {
    "name": "ipython",
    "version": 2
   },
   "file_extension": ".py",
   "mimetype": "text/x-python",
   "name": "python",
   "nbconvert_exporter": "python",
   "pygments_lexer": "ipython2",
   "version": "2.7.12"
  }
 },
 "nbformat": 4,
 "nbformat_minor": 1
}
