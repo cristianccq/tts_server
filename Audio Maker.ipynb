{
 "cells": [
  {
   "cell_type": "code",
   "execution_count": 68,
   "metadata": {
    "collapsed": false
   },
   "outputs": [],
   "source": [
    "import sys\n",
    "import os\n",
    "import glob\n",
    "import librosa\n",
    "import numpy as np\n",
    "import pandas as pd\n",
    "from tqdm import tqdm\n",
    "\n",
    "from matplotlib import pyplot as plt\n",
    "%matplotlib inline"
   ]
  },
  {
   "cell_type": "code",
   "execution_count": 69,
   "metadata": {
    "collapsed": true
   },
   "outputs": [],
   "source": [
    "INPUT_FOLDER = '../ryan_audio/les_mis/'\n",
    "OUTPUT_NAME = 'lupincontresholme.mp3'"
   ]
  },
  {
   "cell_type": "code",
   "execution_count": 70,
   "metadata": {
    "collapsed": false
   },
   "outputs": [],
   "source": [
    "# Get all audio files into single array\n",
    "for i,f in enumerate(glob.glob(INPUT_FOLDER+'*')):\n",
    "    temp, sr = librosa.load(f,sr=None)\n",
    "    if i == 0:\n",
    "        final = temp\n",
    "    else:\n",
    "        final = np.concatenate((final,temp))"
   ]
  },
  {
   "cell_type": "code",
   "execution_count": 71,
   "metadata": {
    "collapsed": true
   },
   "outputs": [],
   "source": [
    "# Save array\n",
    "librosa.output.write_wav(OUTPUT_NAME,final,sr)"
   ]
  },
  {
   "cell_type": "markdown",
   "metadata": {},
   "source": [
    "Open Audacity and split"
   ]
  },
  {
   "cell_type": "code",
   "execution_count": 72,
   "metadata": {
    "collapsed": true
   },
   "outputs": [],
   "source": [
    "LANGUAGE_CODE = 'fr'\n",
    "BOOK_TITLE = 'lesmis'\n",
    "LABELS_NAME = 'lesmis_labels.txt'"
   ]
  },
  {
   "cell_type": "code",
   "execution_count": 73,
   "metadata": {
    "collapsed": false
   },
   "outputs": [
    {
     "data": {
      "text/plain": [
       "256"
      ]
     },
     "execution_count": 73,
     "metadata": {},
     "output_type": "execute_result"
    }
   ],
   "source": [
    "# Make language directory\n",
    "os.system('mkdir '+LANGUAGE_CODE)"
   ]
  },
  {
   "cell_type": "code",
   "execution_count": 74,
   "metadata": {
    "collapsed": false
   },
   "outputs": [
    {
     "data": {
      "text/plain": [
       "256"
      ]
     },
     "execution_count": 74,
     "metadata": {},
     "output_type": "execute_result"
    }
   ],
   "source": [
    "# Make book directory\n",
    "os.system('mkdir '+LANGUAGE_CODE+'/'+BOOK_TITLE)"
   ]
  },
  {
   "cell_type": "code",
   "execution_count": 75,
   "metadata": {
    "collapsed": false
   },
   "outputs": [],
   "source": [
    "# Read silences\n",
    "silences = np.array(pd.read_csv(LABELS_NAME,delimiter='\\t',header=None).iloc[:,0])"
   ]
  },
  {
   "cell_type": "code",
   "execution_count": 76,
   "metadata": {
    "collapsed": false
   },
   "outputs": [
    {
     "data": {
      "text/plain": [
       "22050"
      ]
     },
     "execution_count": 76,
     "metadata": {},
     "output_type": "execute_result"
    }
   ],
   "source": [
    "sr"
   ]
  },
  {
   "cell_type": "code",
   "execution_count": 77,
   "metadata": {
    "collapsed": false
   },
   "outputs": [
    {
     "name": "stderr",
     "output_type": "stream",
     "text": [
      "5601it [00:16, 340.37it/s]\n"
     ]
    }
   ],
   "source": [
    "ref_len = 10. # We controls the length of each clip such that it is close to this.\n",
    "min_len = 1.  # We ignore a split point if it causes an audio clip under 5 1 sec.\n",
    "\n",
    "cursor, _nsamples, filtered = 0, 0, []\n",
    "for s in silences:\n",
    "    nsamples = s - cursor\n",
    "    if nsamples > ref_len and _nsamples > min_len:\n",
    "        cursor = _s\n",
    "        filtered.append(cursor)\n",
    "        nsamples = s - cursor\n",
    "\n",
    "    _nsamples, _s = nsamples, s\n",
    "\n",
    "# Split data and write\n",
    "for i,s in tqdm(enumerate(filtered)):\n",
    "    if i == 0:\n",
    "        prev_cursor = 0\n",
    "    curr_cursor = int(sr*s)\n",
    "    clip = final[prev_cursor:curr_cursor]\n",
    "    output_num = str(i).zfill(4)\n",
    "    librosa.output.write_wav(LANGUAGE_CODE+'/'+BOOK_TITLE+'/'+BOOK_TITLE+output_num+'.wav',clip,sr)\n",
    "    prev_cursor = curr_cursor"
   ]
  },
  {
   "cell_type": "code",
   "execution_count": 78,
   "metadata": {
    "collapsed": true
   },
   "outputs": [],
   "source": [
    "assert set(filtered) < set(silences)"
   ]
  },
  {
   "cell_type": "code",
   "execution_count": 79,
   "metadata": {
    "collapsed": false
   },
   "outputs": [
    {
     "name": "stderr",
     "output_type": "stream",
     "text": [
      "5601it [00:00, 829764.65it/s]\n"
     ]
    }
   ],
   "source": [
    "# Get statistics\n",
    "durations_k = []\n",
    "for i,s in tqdm(enumerate(filtered)):\n",
    "    if i == 0:\n",
    "        prev_cursor = 0\n",
    "    curr_cursor = s\n",
    "    durations_k.append(curr_cursor-prev_cursor)\n",
    "    prev_cursor = curr_cursor"
   ]
  },
  {
   "cell_type": "code",
   "execution_count": 80,
   "metadata": {
    "collapsed": false
   },
   "outputs": [
    {
     "data": {
      "image/png": "[encoded data removed]",
      "text/plain": [
       "<matplotlib.figure.Figure at 0x7f3b2ba506d0>"
      ]
     },
     "metadata": {},
     "output_type": "display_data"
    }
   ],
   "source": [
    "plt.hist(durations_k,bins=50)\n",
    "plt.show()"
   ]
  },
  {
   "cell_type": "code",
   "execution_count": 81,
   "metadata": {
    "collapsed": false
   },
   "outputs": [
    {
     "name": "stdout",
     "output_type": "stream",
     "text": [
      "('percent clips > 15 sec: ', 0.00767720049991073)\n"
     ]
    }
   ],
   "source": [
    "durations_k=np.array(durations_k)\n",
    "print('percent clips > 15 sec: ',len(durations_k[durations_k>15])/float(len(durations_k)))"
   ]
  },
  {
   "cell_type": "code",
   "execution_count": 82,
   "metadata": {
    "collapsed": false
   },
   "outputs": [
    {
     "name": "stdout",
     "output_type": "stream",
     "text": [
      "('percent clips > 10 sec: ', 0.06034636672022853)\n"
     ]
    }
   ],
   "source": [
    "print('percent clips > 10 sec: ',len(durations_k[durations_k>10])/float(len(durations_k)))"
   ]
  },
  {
   "cell_type": "code",
   "execution_count": 83,
   "metadata": {
    "collapsed": false
   },
   "outputs": [
    {
     "name": "stdout",
     "output_type": "stream",
     "text": [
      "('total audio: ', 12.424318310555556)\n"
     ]
    }
   ],
   "source": [
    "print('total audio: ',durations_k.sum()/3600)"
   ]
  },
  {
   "cell_type": "code",
   "execution_count": 84,
   "metadata": {
    "collapsed": false
   },
   "outputs": [
    {
     "name": "stdout",
     "output_type": "stream",
     "text": [
      "('audio greater than 10 sec: ', 1.1917304108333309)\n"
     ]
    }
   ],
   "source": [
    "print('audio greater than 10 sec: ',durations_k[durations_k>10].sum()/3600)"
   ]
  },
  {
   "cell_type": "code",
   "execution_count": 85,
   "metadata": {
    "collapsed": false
   },
   "outputs": [
    {
     "name": "stdout",
     "output_type": "stream",
     "text": [
      "('audio greater than 15 sec: ', 0.22013580250000075)\n"
     ]
    }
   ],
   "source": [
    "print('audio greater than 15 sec: ',durations_k[durations_k>15].sum()/3600)"
   ]
  },
  {
   "cell_type": "code",
   "execution_count": null,
   "metadata": {
    "collapsed": true
   },
   "outputs": [],
   "source": []
  }
 ],
 "metadata": {
  "kernelspec": {
   "display_name": "Python [conda root]",
   "language": "python",
   "name": "conda-root-py"
  },
  "language_info": {
   "codemirror_mode": {
    "name": "ipython",
    "version": 2
   },
   "file_extension": ".py",
   "mimetype": "text/x-python",
   "name": "python",
   "nbconvert_exporter": "python",
   "pygments_lexer": "ipython2",
   "version": "2.7.12"
  }
 },
 "nbformat": 4,
 "nbformat_minor": 1
}
