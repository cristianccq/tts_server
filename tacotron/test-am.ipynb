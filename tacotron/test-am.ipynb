{
 "cells": [
  {
   "cell_type": "code",
   "execution_count": 2,
   "metadata": {},
   "outputs": [],
   "source": [
    "import io\n",
    "import numpy as np\n",
    "import tensorflow as tf\n",
    "from librosa import effects\n",
    "\n",
    "from utils import spectrogram2wav, plot_test_alignment\n",
    "\n",
    "from train import Graph\n",
    "from hyperparams import Hyperparams as hp\n",
    "import tqdm"
   ]
  },
  {
   "cell_type": "code",
   "execution_count": 3,
   "metadata": {},
   "outputs": [],
   "source": [
    "def load_vocab():\n",
    "    char2idx = {char: idx for idx, char in enumerate(hp.vocab)}\n",
    "    idx2char = {idx: char for idx, char in enumerate(hp.vocab)}\n",
    "    return char2idx, idx2char"
   ]
  },
  {
   "cell_type": "code",
   "execution_count": 4,
   "metadata": {},
   "outputs": [],
   "source": [
    "def get_EOS_index(text):\n",
    "    # Load vocab\n",
    "    char2idx, idx2char = load_vocab()\n",
    "\n",
    "    _text = np.array([idx2char[t] for t in text])\n",
    "    return np.argmax(_text == hp.EOS_char)"
   ]
  },
  {
   "cell_type": "code",
   "execution_count": 5,
   "metadata": {},
   "outputs": [],
   "source": [
    "char2idx, idx2char = load_vocab()"
   ]
  },
  {
   "cell_type": "code",
   "execution_count": 6,
   "metadata": {},
   "outputs": [
    {
     "data": {
      "text/plain": [
       "{0: '␀',\n",
       " 1: '␃',\n",
       " 2: ' ',\n",
       " 3: '!',\n",
       " 4: \"'\",\n",
       " 5: ',',\n",
       " 6: '-',\n",
       " 7: '.',\n",
       " 8: ':',\n",
       " 9: ';',\n",
       " 10: '?',\n",
       " 11: 'A',\n",
       " 12: 'B',\n",
       " 13: 'C',\n",
       " 14: 'D',\n",
       " 15: 'E',\n",
       " 16: 'F',\n",
       " 17: 'G',\n",
       " 18: 'H',\n",
       " 19: 'I',\n",
       " 20: 'J',\n",
       " 21: 'K',\n",
       " 22: 'L',\n",
       " 23: 'M',\n",
       " 24: 'N',\n",
       " 25: 'O',\n",
       " 26: 'P',\n",
       " 27: 'Q',\n",
       " 28: 'R',\n",
       " 29: 'S',\n",
       " 30: 'T',\n",
       " 31: 'U',\n",
       " 32: 'V',\n",
       " 33: 'W',\n",
       " 34: 'X',\n",
       " 35: 'Y',\n",
       " 36: 'Z',\n",
       " 37: 'a',\n",
       " 38: 'b',\n",
       " 39: 'c',\n",
       " 40: 'd',\n",
       " 41: 'e',\n",
       " 42: 'f',\n",
       " 43: 'g',\n",
       " 44: 'h',\n",
       " 45: 'i',\n",
       " 46: 'j',\n",
       " 47: 'k',\n",
       " 48: 'l',\n",
       " 49: 'm',\n",
       " 50: 'n',\n",
       " 51: 'o',\n",
       " 52: 'p',\n",
       " 53: 'q',\n",
       " 54: 'r',\n",
       " 55: 's',\n",
       " 56: 't',\n",
       " 57: 'u',\n",
       " 58: 'v',\n",
       " 59: 'w',\n",
       " 60: 'x',\n",
       " 61: 'y',\n",
       " 62: 'z',\n",
       " 63: '¡',\n",
       " 64: '¿',\n",
       " 65: 'Á',\n",
       " 66: 'Å',\n",
       " 67: 'É',\n",
       " 68: 'Í',\n",
       " 69: 'Ó',\n",
       " 70: 'Ú',\n",
       " 71: 'á',\n",
       " 72: 'æ',\n",
       " 73: 'è',\n",
       " 74: 'é',\n",
       " 75: 'ë',\n",
       " 76: 'í',\n",
       " 77: 'î',\n",
       " 78: 'ñ',\n",
       " 79: 'ó',\n",
       " 80: 'ö',\n",
       " 81: 'ú',\n",
       " 82: 'ü',\n",
       " 83: '—'}"
      ]
     },
     "execution_count": 6,
     "metadata": {},
     "output_type": "execute_result"
    }
   ],
   "source": [
    "idx2char"
   ]
  },
  {
   "cell_type": "code",
   "execution_count": 7,
   "metadata": {},
   "outputs": [
    {
     "data": {
      "text/plain": [
       "{'␀': 0,\n",
       " '␃': 1,\n",
       " ' ': 2,\n",
       " '!': 3,\n",
       " \"'\": 4,\n",
       " ',': 5,\n",
       " '-': 6,\n",
       " '.': 7,\n",
       " ':': 8,\n",
       " ';': 9,\n",
       " '?': 10,\n",
       " 'A': 11,\n",
       " 'B': 12,\n",
       " 'C': 13,\n",
       " 'D': 14,\n",
       " 'E': 15,\n",
       " 'F': 16,\n",
       " 'G': 17,\n",
       " 'H': 18,\n",
       " 'I': 19,\n",
       " 'J': 20,\n",
       " 'K': 21,\n",
       " 'L': 22,\n",
       " 'M': 23,\n",
       " 'N': 24,\n",
       " 'O': 25,\n",
       " 'P': 26,\n",
       " 'Q': 27,\n",
       " 'R': 28,\n",
       " 'S': 29,\n",
       " 'T': 30,\n",
       " 'U': 31,\n",
       " 'V': 32,\n",
       " 'W': 33,\n",
       " 'X': 34,\n",
       " 'Y': 35,\n",
       " 'Z': 36,\n",
       " 'a': 37,\n",
       " 'b': 38,\n",
       " 'c': 39,\n",
       " 'd': 40,\n",
       " 'e': 41,\n",
       " 'f': 42,\n",
       " 'g': 43,\n",
       " 'h': 44,\n",
       " 'i': 45,\n",
       " 'j': 46,\n",
       " 'k': 47,\n",
       " 'l': 48,\n",
       " 'm': 49,\n",
       " 'n': 50,\n",
       " 'o': 51,\n",
       " 'p': 52,\n",
       " 'q': 53,\n",
       " 'r': 54,\n",
       " 's': 55,\n",
       " 't': 56,\n",
       " 'u': 57,\n",
       " 'v': 58,\n",
       " 'w': 59,\n",
       " 'x': 60,\n",
       " 'y': 61,\n",
       " 'z': 62,\n",
       " '¡': 63,\n",
       " '¿': 64,\n",
       " 'Á': 65,\n",
       " 'Å': 66,\n",
       " 'É': 67,\n",
       " 'Í': 68,\n",
       " 'Ó': 69,\n",
       " 'Ú': 70,\n",
       " 'á': 71,\n",
       " 'æ': 72,\n",
       " 'è': 73,\n",
       " 'é': 74,\n",
       " 'ë': 75,\n",
       " 'í': 76,\n",
       " 'î': 77,\n",
       " 'ñ': 78,\n",
       " 'ó': 79,\n",
       " 'ö': 80,\n",
       " 'ú': 81,\n",
       " 'ü': 82,\n",
       " '—': 83}"
      ]
     },
     "execution_count": 7,
     "metadata": {},
     "output_type": "execute_result"
    }
   ],
   "source": [
    "char2idx"
   ]
  },
  {
   "cell_type": "code",
   "execution_count": 8,
   "metadata": {},
   "outputs": [
    {
     "data": {
      "text/plain": [
       "['s', 'd']"
      ]
     },
     "execution_count": 8,
     "metadata": {},
     "output_type": "execute_result"
    }
   ],
   "source": [
    "[t for t in 'sd']"
   ]
  },
  {
   "cell_type": "code",
   "execution_count": 9,
   "metadata": {},
   "outputs": [
    {
     "data": {
      "text/plain": [
       "'d'"
      ]
     },
     "execution_count": 9,
     "metadata": {},
     "output_type": "execute_result"
    }
   ],
   "source": [
    "idx2char[40]"
   ]
  },
  {
   "cell_type": "code",
   "execution_count": 10,
   "metadata": {},
   "outputs": [
    {
     "data": {
      "text/plain": [
       "40"
      ]
     },
     "execution_count": 10,
     "metadata": {},
     "output_type": "execute_result"
    }
   ],
   "source": [
    "char2idx['d']"
   ]
  },
  {
   "cell_type": "code",
   "execution_count": 11,
   "metadata": {},
   "outputs": [],
   "source": [
    "def get_EOS_index(text):\n",
    "    # text : texto codificado en numeros\n",
    "    # Load vocab\n",
    "    char2idx, idx2char = load_vocab()\n",
    "\n",
    "    _text = np.array([idx2char[t] for t in text])\n",
    "    return np.argmax(_text == hp.EOS_char)\n",
    "\n",
    "def get_EOS_fire(alignment,text):\n",
    "    EOS_index = get_EOS_index(text)\n",
    "    text_max_indicies = np.argmax(alignment,axis = 0)\n",
    "    r = []\n",
    "    for i,max_index in enumerate(text_max_indicies):\n",
    "        if max_index == EOS_index:\n",
    "            r.append(i)\n",
    "    if not len(r) == 0:\n",
    "        return max(r)\n",
    "    return None\n",
    "\n",
    "import scipy\n",
    "def save_wav(wav, path, sr):\n",
    "  wav *= 32767 / max(0.01, np.max(np.abs(wav)))\n",
    "  scipy.io.wavfile.write(path, sr, wav.astype(np.int16))"
   ]
  },
  {
   "cell_type": "code",
   "execution_count": 12,
   "metadata": {},
   "outputs": [
    {
     "name": "stdout",
     "output_type": "stream",
     "text": [
      "Graph loaded\n",
      "INFO:tensorflow:Restoring parameters from logdir_es\\model_gs_400k\n",
      "Restored!\n"
     ]
    }
   ],
   "source": [
    "g = Graph(mode=\"synthesize\"); print(\"Graph loaded\")\n",
    "\n",
    "saver = tf.train.Saver()\n",
    "\n",
    "session = tf.Session()\n",
    "session.run(tf.global_variables_initializer())\n",
    "saver = tf.train.Saver()\n",
    "saver.restore(session, tf.train.latest_checkpoint(hp.syn_logdir)); print(\"Restored!\")"
   ]
  },
  {
   "cell_type": "code",
   "execution_count": 13,
   "metadata": {},
   "outputs": [],
   "source": [
    "char2idx, idx2char = load_vocab()"
   ]
  },
  {
   "cell_type": "code",
   "execution_count": 34,
   "metadata": {},
   "outputs": [],
   "source": [
    "text = 'Hola mundo'"
   ]
  },
  {
   "cell_type": "code",
   "execution_count": 35,
   "metadata": {},
   "outputs": [],
   "source": [
    "text_encode = [char2idx[char] for char in text]"
   ]
  },
  {
   "cell_type": "code",
   "execution_count": 16,
   "metadata": {},
   "outputs": [
    {
     "data": {
      "text/plain": [
       "[18, 51, 48, 37, 2, 49, 57, 50, 40, 51]"
      ]
     },
     "execution_count": 16,
     "metadata": {},
     "output_type": "execute_result"
    }
   ],
   "source": [
    "text_encode"
   ]
  },
  {
   "cell_type": "code",
   "execution_count": 17,
   "metadata": {},
   "outputs": [],
   "source": [
    "y_hat = np.zeros((1, 200, hp.n_mels*hp.r), np.float32)"
   ]
  },
  {
   "cell_type": "code",
   "execution_count": 18,
   "metadata": {},
   "outputs": [
    {
     "data": {
      "text/plain": [
       "array([[[0., 0., 0., ..., 0., 0., 0.],\n",
       "        [0., 0., 0., ..., 0., 0., 0.],\n",
       "        [0., 0., 0., ..., 0., 0., 0.],\n",
       "        ...,\n",
       "        [0., 0., 0., ..., 0., 0., 0.],\n",
       "        [0., 0., 0., ..., 0., 0., 0.],\n",
       "        [0., 0., 0., ..., 0., 0., 0.]]], dtype=float32)"
      ]
     },
     "execution_count": 18,
     "metadata": {},
     "output_type": "execute_result"
    }
   ],
   "source": [
    "y_hat"
   ]
  },
  {
   "cell_type": "code",
   "execution_count": 36,
   "metadata": {},
   "outputs": [],
   "source": [
    "\n",
    "_y_hat = session.run(g.y_hat, {g.x: [text_encode], g.y: y_hat})\n",
    "y_hat[:, j, :] = _y_hat[:, j, :]"
   ]
  },
  {
   "cell_type": "code",
   "execution_count": 37,
   "metadata": {},
   "outputs": [],
   "source": [
    "## alignments\n",
    "alignments = session.run([g.alignments], {g.x: [text_encode], g.y: y_hat})[0]\n",
    "## mag\n",
    "mag = session.run(g.z_hat, {g.y_hat: y_hat})"
   ]
  },
  {
   "cell_type": "code",
   "execution_count": 38,
   "metadata": {},
   "outputs": [
    {
     "name": "stdout",
     "output_type": "stream",
     "text": [
      "(10, 200)\n"
     ]
    }
   ],
   "source": [
    "text, alignment = text[0], alignments[0]\n",
    "print(alignment.shape)"
   ]
  },
  {
   "cell_type": "code",
   "execution_count": 39,
   "metadata": {},
   "outputs": [
    {
     "name": "stdout",
     "output_type": "stream",
     "text": [
      "len text 1.0\n"
     ]
    }
   ],
   "source": [
    "print(\"len text\", float(len(text)))"
   ]
  },
  {
   "cell_type": "code",
   "execution_count": 40,
   "metadata": {},
   "outputs": [
    {
     "name": "stdout",
     "output_type": "stream",
     "text": [
      "min sec  0.0\n"
     ]
    }
   ],
   "source": [
    "SEC_PER_CHAR = float(10)/180  #[sec/char]\n",
    "SEC_PER_ITER = float(12)/200  #[sec/iter]\n",
    "min_sample_sec = float(get_EOS_index(text_encode))*SEC_PER_CHAR#/SEC_PER_ITER\n",
    "print(\"min sec \",min_sample_sec)"
   ]
  },
  {
   "cell_type": "code",
   "execution_count": 41,
   "metadata": {},
   "outputs": [],
   "source": [
    "al_EOS_index = get_EOS_fire(alignment,text_encode)\n",
    "al_EOS_index = None"
   ]
  },
  {
   "cell_type": "code",
   "execution_count": 42,
   "metadata": {},
   "outputs": [],
   "source": [
    "a,b,c = mag.shape"
   ]
  },
  {
   "cell_type": "code",
   "execution_count": 43,
   "metadata": {},
   "outputs": [
    {
     "data": {
      "text/plain": [
       "(1025, 1000, 1)"
      ]
     },
     "execution_count": 43,
     "metadata": {},
     "output_type": "execute_result"
    }
   ],
   "source": [
    "mag.T.shape"
   ]
  },
  {
   "cell_type": "code",
   "execution_count": 44,
   "metadata": {},
   "outputs": [
    {
     "data": {
      "text/plain": [
       "(1000, 1025)"
      ]
     },
     "execution_count": 44,
     "metadata": {},
     "output_type": "execute_result"
    }
   ],
   "source": [
    "mag.reshape(b,c).shape"
   ]
  },
  {
   "cell_type": "code",
   "execution_count": 45,
   "metadata": {},
   "outputs": [],
   "source": [
    "n_mag = mag.reshape(b,c)"
   ]
  },
  {
   "cell_type": "code",
   "execution_count": 46,
   "metadata": {},
   "outputs": [],
   "source": [
    "audio = spectrogram2wav(n_mag,min_sample_sec)"
   ]
  },
  {
   "cell_type": "code",
   "execution_count": null,
   "metadata": {},
   "outputs": [],
   "source": []
  }
 ],
 "metadata": {
  "kernelspec": {
   "display_name": "Python 3",
   "language": "python",
   "name": "python3"
  },
  "language_info": {
   "codemirror_mode": {
    "name": "ipython",
    "version": 3
   },
   "file_extension": ".py",
   "mimetype": "text/x-python",
   "name": "python",
   "nbconvert_exporter": "python",
   "pygments_lexer": "ipython3",
   "version": "3.6.6"
  }
 },
 "nbformat": 4,
 "nbformat_minor": 2
}
