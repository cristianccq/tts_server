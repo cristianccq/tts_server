{
 "cells": [
  {
   "cell_type": "code",
   "execution_count": 83,
   "metadata": {
    "collapsed": true
   },
   "outputs": [],
   "source": [
    "import re"
   ]
  },
  {
   "cell_type": "code",
   "execution_count": 84,
   "metadata": {
    "collapsed": true
   },
   "outputs": [],
   "source": [
    "lang = 'fr'\n",
    "filename = 'sents/'+lang+'.txt'"
   ]
  },
  {
   "cell_type": "code",
   "execution_count": 85,
   "metadata": {
    "collapsed": true
   },
   "outputs": [],
   "source": [
    "vocab = u'''␀␃ !\"',-.:;?AaBbCcDdEeFfGgHhIiJjKkLlMmNnOoPpQqRrSsTtUuVvWwXxYyZzàâæçèéêëîïôùûœ–’'''"
   ]
  },
  {
   "cell_type": "code",
   "execution_count": 86,
   "metadata": {
    "collapsed": true
   },
   "outputs": [],
   "source": [
    "def is_in_vocab(let,vocab):\n",
    "    if let in vocab:\n",
    "        return ''\n",
    "    else:\n",
    "        return let"
   ]
  },
  {
   "cell_type": "code",
   "execution_count": 87,
   "metadata": {},
   "outputs": [],
   "source": [
    "f = open(filename,'r')"
   ]
  },
  {
   "cell_type": "code",
   "execution_count": 88,
   "metadata": {
    "scrolled": true
   },
   "outputs": [
    {
     "name": "stdout",
     "output_type": "stream",
     "text": [
      "1. La mère a frappé sa fille, parce qu'elle était ivre.\n",
      "\n",
      "2. Tom vida le seau d'eau.\n",
      "\n",
      "3. Je ne suis pas bonne en français.\n",
      "\n",
      "4. La facture de téléphone était très élevée ce mois-ci.\n",
      "\n",
      "5. En Allemagne nous avons toujours payé avec des chèques de voyage.\n",
      "\n",
      "6. Marie a acheté du beurre, du pain et du fromage.\n",
      "\n",
      "7. Qu'avez-vous oublié ici?\n",
      "\n",
      "8. Voulez-vous apprendre les sciences avec facilité? Commencez par apprendre votre langue.\n",
      "\n",
      "11. Puis-je appuyer sur le bouton?\n",
      "\n",
      "12. La machine à laver fut l'une des plus grandes inventions de tous les temps.\n",
      "\n",
      "13. Versez-moi encore un peu de vin s'il vous plaît!\n",
      "\n",
      "14. Il n'y a pas tant de synagogues dans cette ville.\n",
      "\n",
      "15. Comment dit-on \"s'il vous plaît\" en wolof?\n",
      "\n",
      "17. Mon hôtesse me laissa en proie à des pensées vagues et ténébreuses.\n",
      "\n",
      "18. Le soir il se promenait sur la montagne, dans les ruines du château.\n",
      "\n",
      "19. J’emportai le testament ; et, quand il fut ouvert, je vis que madame de Merret m’avait nommé son exécuteur testamentaire.\n",
      "\n",
      "20. Appelle tes sœurs.\n",
      "\n",
      "21. C'est en découvrant des représentations de notre bon Dieu chargé d'ans sous forme d'un aïeul chauve que j'ai perdu toute foi, même en les plus efficaces des produits capillaires.\n",
      "\n",
      "22. Ces crêpes sont vraiment délicieuses.\n",
      "\n",
      "24. Vous plaisantez, bien sûr.\n",
      "\n"
     ]
    }
   ],
   "source": [
    "sents = []\n",
    "for line in f.readlines():\n",
    "    sents.append(line.strip('\\n').lstrip('0123456789. '))\n",
    "    print(line)\n",
    "f.close()"
   ]
  },
  {
   "cell_type": "markdown",
   "metadata": {},
   "source": [
    "# Spots letters that are not in our vocab"
   ]
  },
  {
   "cell_type": "code",
   "execution_count": 89,
   "metadata": {},
   "outputs": [],
   "source": [
    "for sent in sents:\n",
    "    for let in sent:\n",
    "        if is_in_vocab(let,vocab):\n",
    "            print(is_in_vocab(let,vocab))\n",
    "            print(sent)\n",
    "            print(\"\\n\")"
   ]
  },
  {
   "cell_type": "markdown",
   "metadata": {},
   "source": [
    "# Spots vocab that is missing from the sentences"
   ]
  },
  {
   "cell_type": "code",
   "execution_count": 90,
   "metadata": {},
   "outputs": [],
   "source": [
    "uniqs = set()\n",
    "\n",
    "for sent in sents:\n",
    "    uniqs = uniqs.union(set(sent))"
   ]
  },
  {
   "cell_type": "code",
   "execution_count": 91,
   "metadata": {},
   "outputs": [],
   "source": [
    "vocab_dict = []\n",
    "for let in vocab:\n",
    "    if let not in uniqs:\n",
    "        vocab_dict.append(let)\n",
    "    "
   ]
  },
  {
   "cell_type": "code",
   "execution_count": 92,
   "metadata": {},
   "outputs": [
    {
     "data": {
      "text/plain": [
       "['␀',\n",
       " '␃',\n",
       " ':',\n",
       " 'B',\n",
       " 'F',\n",
       " 'G',\n",
       " 'H',\n",
       " 'K',\n",
       " 'k',\n",
       " 'N',\n",
       " 'O',\n",
       " 'R',\n",
       " 'S',\n",
       " 'U',\n",
       " 'W',\n",
       " 'X',\n",
       " 'Y',\n",
       " 'Z',\n",
       " 'æ',\n",
       " 'ë',\n",
       " 'ù',\n",
       " '–']"
      ]
     },
     "execution_count": 92,
     "metadata": {},
     "output_type": "execute_result"
    }
   ],
   "source": [
    "vocab_dict"
   ]
  },
  {
   "cell_type": "code",
   "execution_count": null,
   "metadata": {
    "collapsed": true
   },
   "outputs": [],
   "source": []
  }
 ],
 "metadata": {
  "kernelspec": {
   "display_name": "Python 3",
   "language": "python",
   "name": "python3"
  },
  "language_info": {
   "codemirror_mode": {
    "name": "ipython",
    "version": 3
   },
   "file_extension": ".py",
   "mimetype": "text/x-python",
   "name": "python",
   "nbconvert_exporter": "python",
   "pygments_lexer": "ipython3",
   "version": "3.6.0"
  }
 },
 "nbformat": 4,
 "nbformat_minor": 2
}
